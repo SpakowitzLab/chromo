{
 "cells": [
  {
   "cell_type": "markdown",
   "metadata": {},
   "source": [
    "# How to use MC simulation"
   ]
  },
  {
   "cell_type": "markdown",
   "metadata": {},
   "source": [
    "The main entry point for MC simulation in the current code base is currently found in `chromo.mc.polymer_in_field`. This file shows the basic usage of that function."
   ]
  },
  {
   "cell_type": "code",
   "execution_count": 1,
   "metadata": {},
   "outputs": [],
   "source": [
    "import sys\n",
    "sys.path.insert(1, '../..')\n",
    "\n",
    "import importlib\n",
    "from io import StringIO\n",
    "\n",
    "import numpy as np\n",
    "import pandas as pd\n",
    "\n",
    "import chromo\n",
    "import chromo.mc as mc\n",
    "from chromo.components import Polymer\n",
    "import chromo.marks\n",
    "from chromo.fields import UniformDensityField"
   ]
  },
  {
   "cell_type": "markdown",
   "metadata": {},
   "source": [
    "First specify what epigenetic marks should be used."
   ]
  },
  {
   "cell_type": "code",
   "execution_count": 2,
   "metadata": {},
   "outputs": [],
   "source": [
    "epimarks = [chromo.marks.get_by_name('HP1')]\n",
    "#or just e.g. epimarks = [chromo.marks.hp1]\n",
    "# making it a list is optional since there's only one element"
   ]
  },
  {
   "cell_type": "code",
   "execution_count": 3,
   "metadata": {},
   "outputs": [
    {
     "data": {
      "text/plain": [
       "[Epigenmark(name='HP1', bind_energy=1, interaction_energy=1, chemical_potential=1)]"
      ]
     },
     "execution_count": 3,
     "metadata": {},
     "output_type": "execute_result"
    }
   ],
   "source": [
    "epimarks"
   ]
  },
  {
   "cell_type": "markdown",
   "metadata": {},
   "source": [
    "They are expected in a DataFrame format."
   ]
  },
  {
   "cell_type": "code",
   "execution_count": 5,
   "metadata": {},
   "outputs": [],
   "source": [
    "marks = chromo.marks.make_mark_collection(epimarks)"
   ]
  },
  {
   "cell_type": "markdown",
   "metadata": {},
   "source": [
    "Now specify the initial state of the polymer(s). We will use just one here."
   ]
  },
  {
   "cell_type": "code",
   "execution_count": 6,
   "metadata": {},
   "outputs": [],
   "source": [
    "p = Polymer.straight_line_in_x('Chr-1', 10, 1, states=np.zeros((10,)), mark_names=['HP1'])"
   ]
  },
  {
   "cell_type": "markdown",
   "metadata": {},
   "source": [
    "Finally create a field object to contain the polymers."
   ]
  },
  {
   "cell_type": "code",
   "execution_count": 7,
   "metadata": {},
   "outputs": [],
   "source": [
    "udf = UniformDensityField([p], marks, 10, 20, 30, 40, 50, 60)"
   ]
  },
  {
   "cell_type": "markdown",
   "metadata": {},
   "source": [
    "As per the docs of `chromo.util.reproducibility.make_reproducible`, check the `simulations.csv` file in the requested output folder (i.e. `{current working directory of this Notebook}/{output_dir}`) to see information about all simulations that have been run so far.\n",
    "\n",
    "All inputs are saved in the output folder as well, for exact reproducibility."
   ]
  },
  {
   "cell_type": "code",
   "execution_count": 10,
   "metadata": {},
   "outputs": [
    {
     "name": "stdout",
     "output_type": "stream",
     "text": [
      "Save point 0 completed\n",
      "Save point 1 completed\n",
      "Save point 2 completed\n",
      "Save point 3 completed\n",
      "Save point 4 completed\n",
      "Save point 5 completed\n",
      "Save point 6 completed\n",
      "Save point 7 completed\n",
      "Save point 8 completed\n",
      "Save point 9 completed\n"
     ]
    }
   ],
   "source": [
    "mc.polymer_in_field([p], marks, udf, 1000, 10, output_dir='output')"
   ]
  },
  {
   "cell_type": "markdown",
   "metadata": {},
   "source": [
    "Here's an alternative implementation that takes only \"simple\" inputs:"
   ]
  },
  {
   "cell_type": "code",
   "execution_count": 9,
   "metadata": {},
   "outputs": [
    {
     "name": "stdout",
     "output_type": "stream",
     "text": [
      "Save point 0 completed\n",
      "Save point 1 completed\n",
      "Save point 2 completed\n",
      "Save point 3 completed\n",
      "Save point 4 completed\n",
      "Save point 5 completed\n",
      "Save point 6 completed\n",
      "Save point 7 completed\n",
      "Save point 8 completed\n",
      "Save point 9 completed\n"
     ]
    }
   ],
   "source": [
    "mc.simple_mc(num_polymers=5, num_beads=10, bead_length=1, num_marks=2, num_save_mc=1000, num_saves=10,\n",
    "             x_width=10, nx=1, y_width=10, ny=1, z_width=10, nz=1, random_seed=0, output_dir='output_simple')"
   ]
  },
  {
   "cell_type": "code",
   "execution_count": null,
   "metadata": {},
   "outputs": [],
   "source": []
  }
 ],
 "metadata": {
  "kernelspec": {
   "display_name": "Python 3",
   "language": "python",
   "name": "python3"
  },
  "language_info": {
   "codemirror_mode": {
    "name": "ipython",
    "version": 3
   },
   "file_extension": ".py",
   "mimetype": "text/x-python",
   "name": "python",
   "nbconvert_exporter": "python",
   "pygments_lexer": "ipython3",
   "version": "3.7.6"
  }
 },
 "nbformat": 4,
 "nbformat_minor": 4
}
