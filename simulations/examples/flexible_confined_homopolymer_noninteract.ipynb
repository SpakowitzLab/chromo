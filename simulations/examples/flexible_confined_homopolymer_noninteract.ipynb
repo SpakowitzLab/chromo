{
 "cells": [
  {
   "cell_type": "markdown",
   "metadata": {},
   "source": [
    "# Simulate a Flexible, Confined Homopolymer"
   ]
  },
  {
   "attachments": {},
   "cell_type": "markdown",
   "metadata": {
    "pycharm": {
     "name": "#%% md\n"
    }
   },
   "source": [
    "This notebook runs a Monte Carlo simulation of a confined, flexible homopolymer. The polymer includes 100,000 monomeric units, each separated by 5 persistence lengths. While we invoke the  SSWLC model in this simulation, we define a bead spacing restricting polymer behavior to the flexible regime. Twist is not considered during the simulation. The polymer is confined by a 4,500 nm radius spherical boundary. Monomers are non-interacting; field energies are not evaluated, except to enforce the confinement. The simulation is run for 100 snapshots, each involving 40,000 MC iterations."
   ]
  },
  {
   "cell_type": "markdown",
   "metadata": {},
   "source": [
    "\n"
   ]
  },
  {
   "cell_type": "markdown",
   "metadata": {
    "pycharm": {
     "name": "#%% md\n"
    }
   },
   "source": [
    "### Setup\n",
    "\n",
    "Install necessary modules, add the package root directory to the system path, and change working directory to root. Every simulation will involve similar setup steps.\n",
    "\n",
    "**Do not run the setup cell more than once, except after restarting the kernel.** There is no way to consistently track the directory containing the notebook."
   ]
  },
  {
   "cell_type": "code",
   "execution_count": null,
   "metadata": {
    "pycharm": {
     "name": "#%%\n"
    },
    "scrolled": false
   },
   "outputs": [],
   "source": [
    "# Built-in modules\n",
    "import os\n",
    "import sys\n",
    "\n",
    "# Insert package root to system path\n",
    "cwd = os.getcwd()\n",
    "parent_dir = cwd + \"/../..\"\n",
    "sys.path.insert(1, parent_dir)\n",
    "\n",
    "print(\"Directory containing the notebook:\")\n",
    "print(cwd)"
   ]
  },
  {
   "cell_type": "code",
   "execution_count": null,
   "metadata": {
    "pycharm": {
     "name": "#%%\n"
    },
    "scrolled": false
   },
   "outputs": [],
   "source": [
    "# External modules\n",
    "import numpy as np\n",
    "import pandas as pd\n",
    "import matplotlib.pyplot as plt\n",
    "\n",
    "# Package modules\n",
    "import chromo.mc as mc\n",
    "from chromo.polymers import SSWLC\n",
    "import chromo.binders\n",
    "from chromo.fields import UniformDensityField\n",
    "import chromo.mc.mc_controller as ctrl\n",
    "from chromo.util.reproducibility import get_unique_subfolder_name\n",
    "import chromo.util.poly_stat as ps"
   ]
  },
  {
   "cell_type": "code",
   "execution_count": null,
   "metadata": {
    "pycharm": {
     "name": "#%%\n"
    },
    "scrolled": false
   },
   "outputs": [],
   "source": [
    "# Change working directory to package root\n",
    "os.chdir(parent_dir)\n",
    "print(\"Root Directory of Package: \")\n",
    "print(os.getcwd())"
   ]
  },
  {
   "cell_type": "markdown",
   "metadata": {},
   "source": [
    "\n"
   ]
  },
  {
   "cell_type": "markdown",
   "metadata": {},
   "source": [
    "### Specify Reader Proteins\n",
    "\n",
    "Reader proteins are collectively stored in a data frame that we call the \"binder collection.\" We can generate the binder collection using the `make_binder_collection` function in the `chromo.binders` module. The binder collection accepts as an input a list of reader protein objects. Certain reader protein objects are pre-implemented in the `chromo.binders` module and can be instantiated by name using the `get_by_name` method in the `chromo.binders` module.\n",
    "\n",
    "All simulations require at least one reader protein to be defined, even if we want to simulate a homopolymer like here. We have defined a placeholder binder named `null_reader` which serves only to ensure compatibility with the rest of the code."
   ]
  },
  {
   "cell_type": "code",
   "execution_count": null,
   "metadata": {
    "pycharm": {
     "name": "#%%\n"
    },
    "scrolled": false
   },
   "outputs": [],
   "source": [
    "# Instantiate the HP1 reader protein, which is pre-defined in the `chromo.binders` module\n",
    "null_reader = chromo.binders.get_by_name('null_reader')\n",
    "\n",
    "# Create the binder collection\n",
    "binders = chromo.binders.make_binder_collection([null_reader])"
   ]
  },
  {
   "cell_type": "markdown",
   "metadata": {},
   "source": [
    "\n"
   ]
  },
  {
   "cell_type": "markdown",
   "metadata": {},
   "source": [
    "### Specify Confinement\n",
    "\n",
    "The behavior of confining boundaries are defined in the `chromo.field` module. The confinement type is specified as a string name. The confinement length depends on the confinement type (as should be documented in the `chromo.field` module) and is specified as a float.\n",
    "\n",
    "Here we define a spherical confinement with a 4,500 nm radius."
   ]
  },
  {
   "cell_type": "code",
   "execution_count": null,
   "metadata": {
    "pycharm": {
     "name": "#%%\n"
    }
   },
   "outputs": [],
   "source": [
    "confine_type = \"Spherical\"\n",
    "confine_length = 4500"
   ]
  },
  {
   "cell_type": "markdown",
   "metadata": {},
   "source": [
    "\n"
   ]
  },
  {
   "cell_type": "markdown",
   "metadata": {
    "pycharm": {
     "name": "#%% md\n"
    }
   },
   "source": [
    "### Instantiate Polymer(s)\n",
    "\n",
    "Various polymer models are defined in the `chromo.polymers` module. All polymer classes share the attributes and methods defined in the `PolymerBase` class. We instantiate a stretchable, shearable wormlike chain from the `SSWLC` class in the `chromo.polymers` module. The polymer has 100,000 beads, each separated by 265 nm, and we specify the persistence length of the polymer as being 53 nm. The polymer is initialized as a Gaussian random walk inside its confinement."
   ]
  },
  {
   "cell_type": "code",
   "execution_count": null,
   "metadata": {
    "pycharm": {
     "name": "#%%\n"
    },
    "scrolled": false
   },
   "outputs": [],
   "source": [
    "num_beads = 100000\n",
    "bead_spacing = 265\n",
    "lp = 53\n",
    "\n",
    "polymer = SSWLC.confined_gaussian_walk(\n",
    "    'poly_1',\n",
    "    num_beads,\n",
    "    bead_spacing,\n",
    "    confine_type=confine_type,\n",
    "    confine_length=confine_length,\n",
    "    binder_names=np.array(['null_reader']),\n",
    "    lp=lp\n",
    ")"
   ]
  },
  {
   "cell_type": "markdown",
   "metadata": {},
   "source": [
    "\n"
   ]
  },
  {
   "cell_type": "code",
   "execution_count": null,
   "metadata": {
    "pycharm": {
     "name": "#%%\n"
    },
    "scrolled": false
   },
   "outputs": [],
   "source": [
    "x = polymer.r[:, 0]\n",
    "y = polymer.r[:, 1]\n",
    "z = polymer.r[:, 2]\n",
    "\n",
    "fig = plt.figure(figsize=(8, 6))\n",
    "ax = fig.add_subplot(projection='3d')\n",
    "ax.plot3D(np.asarray(x), np.asarray(y), np.asarray(z))\n",
    "ax.set_xlabel('x')\n",
    "ax.set_ylabel('y')\n",
    "ax.set_zlabel('z')\n",
    "\n",
    "plt.show()"
   ]
  },
  {
   "cell_type": "markdown",
   "metadata": {},
   "source": [
    "\n"
   ]
  },
  {
   "cell_type": "markdown",
   "metadata": {
    "pycharm": {
     "name": "#%% md\n"
    }
   },
   "source": [
    "### Define Uniform Density Field\n",
    "\n",
    "We leverage a field theoretic approach  to model interactions between beads and bound reader proteins. The field tracks the density of the polymer and all binders in cubical voxels of space. To instantiate the field, we need to specify the dimensions of the voxel grid, the confinement, and all polymers and binders contained.\n",
    "\n",
    "Here we instantiate a field that contains the spherical confinement with voxels of 100 nm width in the x, y, and z directions. Since we are dealing with a homopolymer, there is no energy contribution by the field; however, the simulation requires that a field be defined."
   ]
  },
  {
   "cell_type": "code",
   "execution_count": null,
   "metadata": {
    "pycharm": {
     "name": "#%%\n"
    },
    "scrolled": false
   },
   "outputs": [],
   "source": [
    "n_bins_x = 90\n",
    "n_bins_y = n_bins_x\n",
    "n_bins_z = n_bins_x\n",
    "\n",
    "x_width = 2 * confine_length\n",
    "y_width = x_width\n",
    "z_width = x_width\n",
    "\n",
    "udf = UniformDensityField(\n",
    "    polymers = [polymer],\n",
    "    binders = binders,\n",
    "    x_width = x_width,\n",
    "    nx = n_bins_x,\n",
    "    y_width = y_width,\n",
    "    ny = n_bins_y,\n",
    "    z_width = z_width,\n",
    "    nz = n_bins_z,\n",
    "    confine_type = confine_type,\n",
    "    confine_length = confine_length,\n",
    "    chi=0,\n",
    "    vf_limit=1E99,                  # Completely non-interacting particles.\n",
    "    assume_fully_accessible=1\n",
    ")"
   ]
  },
  {
   "cell_type": "markdown",
   "metadata": {},
   "source": [
    "\n"
   ]
  },
  {
   "cell_type": "markdown",
   "metadata": {
    "pycharm": {
     "name": "#%% md\n"
    }
   },
   "source": [
    "### Specify Simulation\n",
    "\n",
    "The simulator proposes and evaluates random configurational changes to the polymer; in the case of the homopolymer, moves involve physical transformations to the chain."
   ]
  },
  {
   "cell_type": "markdown",
   "metadata": {
    "pycharm": {
     "name": "#%% md\n"
    }
   },
   "source": [
    "##### Move and Bead Amplitudes\n",
    "\n",
    "There are two ways to tune these configurational changes over the course of the simulation; we can either adjust the magnitude of the selection window for affected beads, or we can adjust the magnitude of the transformation itself. We define a \"bead amplitude\" to represent the maximum magnitude of the selection window for a move and a \"move amplitude\" to represent the maximum magnitude of the move's transformation. We restrict the move and bead amplitudes between bounds to ensure that MC moves do not become too large or too small. The bounds of the move and bead amplitudes are dependent on the polymers' sizes and are determined by the `get_amplitude_bounds` method in the `__init__` module of the `mc` directory."
   ]
  },
  {
   "cell_type": "code",
   "execution_count": null,
   "metadata": {
    "pycharm": {
     "name": "#%%\n"
    },
    "scrolled": false
   },
   "outputs": [],
   "source": [
    "amp_bead_bounds, amp_move_bounds = mc.get_amplitude_bounds(\n",
    "    polymers = [polymer]\n",
    ")"
   ]
  },
  {
   "cell_type": "markdown",
   "metadata": {},
   "source": [
    "\n"
   ]
  },
  {
   "cell_type": "markdown",
   "metadata": {
    "pycharm": {
     "name": "#%% md\n"
    }
   },
   "source": [
    "##### Define MC Moves\n",
    "\n",
    "Here, we identify exactly which MC moves we wish to include in the simulation. We use the following moves in this. example:\n",
    "\n",
    "- **Slide:** Translation of a continuous segment of beads in a random direction\n",
    "- **Crank-Shaft:** Rotation of an internal segment of the polymer about the axis containing the segment\n",
    "- **End-Pivot:** Rotation of a segment on one end of the polymer about an arbitrary axis\n",
    "- **Tangent Rotation:** Rotation of the tangent vectors of random beads in the polymer\n",
    "\n",
    "Since we often use this combination of MC moves, comprising all the physical transformations we've implemented so far, we have defined a helper function called `all_moves_except_binding_state` in the `chromo.mc.mc_controller` module to initialize the moves. The adaptable moves themselves are attributes of controllers that dynamically adjusts the move and bead amplitudes over the course of the simulation. Since each move is associated with a log file that may be used to track its acceptance rate, we need to specify an output directory for the simulation. The `get_unique_subfolder_name` function in the `chromo.util.reproducibility` module identifies a unique output directory name for the simulation."
   ]
  },
  {
   "cell_type": "code",
   "execution_count": null,
   "metadata": {
    "pycharm": {
     "name": "#%%\n"
    },
    "scrolled": false
   },
   "outputs": [],
   "source": [
    "latest_sim = get_unique_subfolder_name(\"output/sim_\")\n",
    "moves_to_use = ctrl.all_moves_except_binding_state(\n",
    "    log_dir=latest_sim,\n",
    "    bead_amp_bounds=amp_bead_bounds.bounds,\n",
    "    move_amp_bounds=amp_move_bounds.bounds,\n",
    "    controller=ctrl.SimpleControl\n",
    ")"
   ]
  },
  {
   "cell_type": "markdown",
   "metadata": {},
   "source": [
    "\n"
   ]
  },
  {
   "cell_type": "markdown",
   "metadata": {
    "pycharm": {
     "name": "#%% md\n"
    }
   },
   "source": [
    "##### Simulation Length\n",
    "\n",
    "We define the simulation by the number of snapshots we would like to generate and the number of iterations of each move between the snapshots. Here, we specify a simulation producing 100 snapshots, each with 40,000 iterations of each MC move."
   ]
  },
  {
   "cell_type": "code",
   "execution_count": null,
   "metadata": {
    "pycharm": {
     "name": "#%%\n"
    },
    "scrolled": false
   },
   "outputs": [],
   "source": [
    "num_snapshots = 100\n",
    "mc_steps_per_snapshot = 40000"
   ]
  },
  {
   "cell_type": "markdown",
   "metadata": {},
   "source": [
    "\n"
   ]
  },
  {
   "cell_type": "markdown",
   "metadata": {
    "pycharm": {
     "name": "#%% md\n"
    }
   },
   "source": [
    "### Run the Simulation\n",
    "\n",
    "The `polymer_in_field` method defined in the `__init__` file of the `mc` directory initiates the simulation. Running the code block below generates a unique output directory and run the simulation."
   ]
  },
  {
   "cell_type": "code",
   "execution_count": null,
   "metadata": {
    "pycharm": {
     "name": "#%%\n"
    },
    "scrolled": true,
    "tags": [
     "output_scroll"
    ]
   },
   "outputs": [],
   "source": [
    "%%capture\n",
    "mc.polymer_in_field(\n",
    "    polymers = [polymer],\n",
    "    binders = binders,\n",
    "    field = udf,\n",
    "    num_save_mc = mc_steps_per_snapshot,\n",
    "    num_saves = num_snapshots,\n",
    "    bead_amp_bounds = amp_bead_bounds,\n",
    "    move_amp_bounds = amp_move_bounds,\n",
    "    output_dir = 'output',\n",
    "    mc_move_controllers = moves_to_use\n",
    ")"
   ]
  },
  {
   "cell_type": "markdown",
   "metadata": {},
   "source": [
    "\n"
   ]
  },
  {
   "cell_type": "markdown",
   "metadata": {
    "pycharm": {
     "name": "#%% md\n"
    }
   },
   "source": [
    "### Evaluate Convergence\n",
    "\n",
    "With the simulation complete, we want to check for energy and configurational convergence in the Monte Carlo snapshots. First we recall the latest simulation output directory. From that directory, we load the polymer configuration in each snapshot. We then evaluate the elastic energy of each bond. We lastly check that the mean squared separation distance between beads $n = 50$ monomers apart on the chain also converges."
   ]
  },
  {
   "cell_type": "markdown",
   "metadata": {
    "pycharm": {
     "name": "#%% md\n"
    }
   },
   "source": [
    "##### List Polymer Output Files\n",
    "\n",
    "Polymer configurations are saved at each snapshot of the simulation in the simulation's output directory. All polymer configurations are saved with `.csv` extension and are prepended with the label `poly_1`. The snapshot number is indicated after a hyphen and before the file extension in the polymer output file name."
   ]
  },
  {
   "cell_type": "code",
   "execution_count": null,
   "metadata": {
    "pycharm": {
     "name": "#%%\n"
    },
    "scrolled": false
   },
   "outputs": [],
   "source": [
    "# Load names of polymer configuration output files\n",
    "output_files = os.listdir(latest_sim)\n",
    "output_files = [\n",
    "    f for f in output_files if f.endswith(\".csv\") and f.startswith(\"poly_1\")\n",
    "]\n",
    "snapshot = [int(f.split(\"-\")[-1].split(\".\")[0]) for f in output_files]\n",
    "sorted_snap = np.sort(np.array(snapshot))\n",
    "output_files = [f for _, f in sorted(zip(snapshot, output_files))]"
   ]
  },
  {
   "cell_type": "markdown",
   "metadata": {},
   "source": [
    "\n"
   ]
  },
  {
   "cell_type": "markdown",
   "metadata": {
    "pycharm": {
     "name": "#%% md\n"
    }
   },
   "source": [
    "##### Calculate Energies\n",
    "\n",
    "The polymer class has a `compute_E` method for calculating total energy"
   ]
  },
  {
   "cell_type": "code",
   "execution_count": null,
   "metadata": {
    "pycharm": {
     "name": "#%%\n"
    },
    "scrolled": true,
    "tags": [
     "output_scroll"
    ]
   },
   "outputs": [],
   "source": [
    "all_energies = []\n",
    "polymer_energies = []\n",
    "\n",
    "for i, f in enumerate(output_files):\n",
    "    snap = sorted_snap[i]\n",
    "    output_path = str(latest_sim) + '/' + f\n",
    "\n",
    "    r = pd.read_csv(\n",
    "        output_path,\n",
    "        header=0,\n",
    "        skiprows=1,\n",
    "        usecols=[1, 2, 3],\n",
    "        dtype=float\n",
    "    ).to_numpy()\n",
    "\n",
    "    t3 = pd.read_csv(\n",
    "        output_path,\n",
    "        header=0,\n",
    "        skiprows=1,\n",
    "        usecols=[4, 5, 6],\n",
    "        dtype=float\n",
    "    ).to_numpy()\n",
    "\n",
    "    polymer.r = r.copy()\n",
    "    polymer.t3 = t3.copy()\n",
    "\n",
    "    polymer_energy = polymer.compute_E()\n",
    "    polymer_energies.append(polymer_energy)"
   ]
  },
  {
   "cell_type": "markdown",
   "metadata": {},
   "source": [
    "\n"
   ]
  },
  {
   "cell_type": "markdown",
   "metadata": {
    "pycharm": {
     "name": "#%% md\n"
    }
   },
   "source": [
    "##### Plot Energy Convergence"
   ]
  },
  {
   "cell_type": "code",
   "execution_count": null,
   "metadata": {
    "pycharm": {
     "name": "#%%\n"
    },
    "scrolled": false
   },
   "outputs": [],
   "source": [
    "plt.figure(figsize=(5,4), dpi=300)\n",
    "plt.plot(sorted_snap, polymer_energies)\n",
    "plt.xlabel(\"Snapshot number\")\n",
    "plt.ylabel(\"Polymer Energy\")\n",
    "plt.tight_layout()\n",
    "plt.show()"
   ]
  },
  {
   "cell_type": "markdown",
   "metadata": {},
   "source": [
    "\n"
   ]
  },
  {
   "cell_type": "markdown",
   "metadata": {
    "pycharm": {
     "name": "#%% md\n"
    }
   },
   "source": [
    "##### Calculate MSD\n",
    "\n",
    "Check that the mean squared separation distance of beads $n = 50$ monomers apart on the chain converges during the simulation. In the `chromo.util.poly_stat` module, there is a method that does this calculation."
   ]
  },
  {
   "cell_type": "code",
   "execution_count": null,
   "metadata": {
    "pycharm": {
     "name": "#%%\n"
    },
    "scrolled": true,
    "tags": [
     "output_scroll"
    ]
   },
   "outputs": [],
   "source": [
    "lp = 100    # Persistence length of DNA; in this example, `lp` has no effect\n",
    "delta = 50  # Monomer monomer separation at which to calculate mean squared distance.\n",
    "\n",
    "all_dists = []\n",
    "for i, f in enumerate(output_files):\n",
    "    snap = sorted_snap[i]\n",
    "    output_path = str(latest_sim) + '/' + f\n",
    "    r = pd.read_csv(\n",
    "        output_path,\n",
    "        header=0,\n",
    "        skiprows=1,\n",
    "        usecols=[1, 2, 3],\n",
    "        dtype=float\n",
    "    ).to_numpy()\n",
    "    poly_stat = ps.PolyStats(r, lp, \"overlap\")\n",
    "    windows = poly_stat.load_indices(delta)\n",
    "    all_dists.append(poly_stat.calc_r2(windows))"
   ]
  },
  {
   "cell_type": "markdown",
   "metadata": {},
   "source": [
    "\n"
   ]
  },
  {
   "cell_type": "markdown",
   "metadata": {},
   "source": [
    "##### Plot MSD Convergence"
   ]
  },
  {
   "cell_type": "code",
   "execution_count": null,
   "metadata": {
    "pycharm": {
     "name": "#%%\n"
    },
    "scrolled": false
   },
   "outputs": [],
   "source": [
    "plt.figure(figsize=(8, 6))\n",
    "plt.plot(sorted_snap, all_dists)\n",
    "plt.xlabel(\"Snapshot number\")\n",
    "plt.ylabel(r\"$\\langle R^2 \\rangle /(2l_p)^2$\")\n",
    "plt.tight_layout()\n",
    "plt.show()"
   ]
  },
  {
   "cell_type": "markdown",
   "metadata": {},
   "source": [
    "\n"
   ]
  },
  {
   "cell_type": "markdown",
   "metadata": {},
   "source": [
    "If energy and/or configurational convergence are not achieved, a longer simulation is required to enable equilibration.\n"
   ]
  },
  {
   "cell_type": "markdown",
   "metadata": {
    "pycharm": {
     "name": "#%% md\n"
    }
   },
   "source": [
    "### Evaluate Consistency with WLC Statistics\n",
    "\n",
    "We compare the results of this simulation to the theoretical radial densities of a flexible polymer. The radial density represents the average bead density at each radial position in the confinement. We allow the polymer 90 snapshots to equilibrate, then we average the radial densities in remaining snapshots. We plot radial densities from our simulation against corresponding theoretical values."
   ]
  },
  {
   "cell_type": "code",
   "execution_count": null,
   "metadata": {
    "pycharm": {
     "name": "#%%\n"
    },
    "scrolled": false
   },
   "outputs": [],
   "source": [
    "num_equilibration = 90\n",
    "counts_all = []\n",
    "\n",
    "for i, f in enumerate(output_files):\n",
    "\n",
    "    if i < num_equilibration:\n",
    "        continue\n",
    "\n",
    "    output_path = str(latest_sim) + \"/\" + f\n",
    "    r = pd.read_csv(\n",
    "        output_path,\n",
    "        header=0,\n",
    "        skiprows=1,\n",
    "        usecols=[1, 2, 3],\n",
    "        dtype=float\n",
    "    ).to_numpy()\n",
    "\n",
    "    radial_dists = np.linalg.norm(r, axis=1)\n",
    "\n",
    "    step_size = 100\n",
    "    bins = np.arange(step_size, confine_length, step_size)\n",
    "    counts, bin_edges = np.histogram(radial_dists, bins=bins)\n",
    "    counts = counts.astype(float)\n",
    "    counts_all.append(counts)\n",
    "\n",
    "counts_all = np.array(counts_all)\n",
    "counts_avg = np.sum(counts_all, axis=0)\n",
    "\n",
    "# Correct densities based on volumes of spherical shells\n",
    "for i in range(len(bin_edges)-1):\n",
    "    volume = 4/3 * np.pi * ((bin_edges[i+1]/1E3)**3 - (bin_edges[i]/1E3)**3)\n",
    "    counts_avg[i] /= volume\n",
    "\n",
    "counts_avg /= np.sum(counts_avg)\n",
    "\n",
    "# Get theoretical radial densities\n",
    "a = confine_length\n",
    "b = lp\n",
    "N = len(r)\n",
    "r_theory = np.arange(step_size, confine_length, 1)\n",
    "n_max = 1000\n",
    "rho = np.zeros(len(r_theory))\n",
    "for n in range(2, n_max + 1):\n",
    "    rho += (-1)**(n+1) / (n * np.pi) * np.sin(np.pi * r_theory / a) * np.sin(n * np.pi * r_theory / a) / (r_theory**2 * b**2 * (n**2 - 1))\n",
    "rho += N / np.pi * np.sin(np.pi * r_theory / a)**2 / r_theory**2\n",
    "\n",
    "normalize = np.sum(rho)\n",
    "rho_theory = rho / normalize * step_size"
   ]
  },
  {
   "cell_type": "code",
   "execution_count": null,
   "metadata": {
    "pycharm": {
     "name": "#%%\n"
    }
   },
   "outputs": [],
   "source": [
    "font = {'family': 'serif',\n",
    "        'weight': 'normal',\n",
    "        'size': 18}\n",
    "plt.rc('font', **font)\n",
    "\n",
    "plt.figure(figsize=(8, 6))\n",
    "plt.hist(bin_edges[:-1], bin_edges, weights=counts_avg, alpha=0.4, color=\"blue\")\n",
    "plt.plot(r_theory, rho_theory, color=\"blue\")\n",
    "plt.xlabel(\"Radial Distance (nm)\")\n",
    "plt.ylabel(r\"Probability\")\n",
    "plt.tight_layout()\n",
    "plt.show()"
   ]
  },
  {
   "cell_type": "markdown",
   "metadata": {},
   "source": [
    "\n"
   ]
  },
  {
   "cell_type": "markdown",
   "metadata": {
    "pycharm": {
     "name": "#%% md\n"
    }
   },
   "source": [
    "### Summary\n",
    "\n",
    "We began by defining the components of a 100,000 bead flexible homopolymer. We then specified the Monte Carlo simulation, which entailed iterative geometric transformation of the polymer. We finally assessed the predicted polymer structures at various snapshots, verifying convergence and generating a plot of radial densities. Using a purely physics-based approach, we were able to match the theoretical radial density distribution of a flexible polymer."
   ]
  },
  {
   "cell_type": "markdown",
   "metadata": {
    "pycharm": {
     "name": "#%% md\n"
    }
   },
   "source": []
  }
 ],
 "metadata": {
  "kernelspec": {
   "display_name": "Python 3 (ipykernel)",
   "language": "python",
   "name": "python3"
  },
  "language_info": {
   "codemirror_mode": {
    "name": "ipython",
    "version": 3
   },
   "file_extension": ".py",
   "mimetype": "text/x-python",
   "name": "python",
   "nbconvert_exporter": "python",
   "pygments_lexer": "ipython3",
   "version": "3.9.12"
  },
  "vscode": {
   "interpreter": {
    "hash": "080367ce688e50787f0361fe9d4280fa655f12c7174fd562a8e170ed3b3c705c"
   }
  }
 },
 "nbformat": 4,
 "nbformat_minor": 1
}
